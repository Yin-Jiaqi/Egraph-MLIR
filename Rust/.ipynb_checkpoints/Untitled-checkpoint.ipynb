{
 "cells": [
  {
   "cell_type": "code",
   "execution_count": null,
   "id": "meaning-import",
   "metadata": {},
   "outputs": [],
   "source": [
    "def rewrite_line(line):\n",
    "    results = []\n",
    "    \n",
    "    # Split the line at the '=' character\n",
    "    parts = line.split('=')\n",
    "    name_part = parts[0].strip()\n",
    "    value_part = parts[1].strip()\n",
    "    \n",
    "    # Extract the ID value from the line\n",
    "    id_start = value_part.find('[Id;') + 5\n",
    "    id_end = value_part.find(']')\n",
    "    start_id = int(value_part[id_start:id_end].strip())\n",
    "    \n",
    "    # Generate the 11 new lines\n",
    "    for i in range(11):\n",
    "        new_name = f'\"{name_part[1:-1]}_{i}\"'\n",
    "        new_value = f'{value_part.split(\"[\")[0]}[Id; {start_id + i}],'\n",
    "        results.append(f'{new_name} = {new_value}')\n",
    "    \n",
    "    return results\n",
    "\n",
    "def main():\n",
    "    input_data = '''\n",
    "    \"arith_addi_i32_0\" = ArithAddiI32_0([Id; 2]),\n",
    "    # ... rest of the lines\n",
    "    '''\n",
    "\n",
    "    lines = [line.strip() for line in input_data.split('\\n') if line.strip()]\n",
    "\n",
    "    for line in lines:\n",
    "        for new_line in rewrite_line(line):\n",
    "            print(new_line)"
   ]
  }
 ],
 "metadata": {
  "kernelspec": {
   "display_name": "Python 3",
   "language": "python",
   "name": "python3"
  },
  "language_info": {
   "codemirror_mode": {
    "name": "ipython",
    "version": 3
   },
   "file_extension": ".py",
   "mimetype": "text/x-python",
   "name": "python",
   "nbconvert_exporter": "python",
   "pygments_lexer": "ipython3",
   "version": "3.8.2"
  }
 },
 "nbformat": 4,
 "nbformat_minor": 5
}
